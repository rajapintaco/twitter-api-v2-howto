{
 "cells": [
  {
   "cell_type": "markdown",
   "id": "2e752a65",
   "metadata": {},
   "source": [
    "# Demo for collecting a set of tweets with twarc"
   ]
  },
  {
   "cell_type": "markdown",
   "id": "4be3f3c6",
   "metadata": {},
   "source": [
    "You can of course create a virtual environment and install the following libraries using pip. \n",
    "\n",
    "However, this demo is seeking to find the easiest possible approach for collecting tweets using Python and twarc. \n",
    "\n",
    "To run this notebook, install Anaconda, download and place the notebook to a folder and open it in Anaconda. "
   ]
  },
  {
   "cell_type": "markdown",
   "id": "75b48344",
   "metadata": {},
   "source": [
    "!pip install twarc\n",
    "!pip install pandas"
   ]
  },
  {
   "cell_type": "code",
   "execution_count": 3,
   "id": "a30120c5",
   "metadata": {},
   "outputs": [],
   "source": [
    "import pandas as pd"
   ]
  },
  {
   "cell_type": "code",
   "execution_count": null,
   "id": "b6179367",
   "metadata": {},
   "outputs": [],
   "source": []
  },
  {
   "cell_type": "markdown",
   "id": "2fb3b9e1",
   "metadata": {},
   "source": [
    "Do note that twarc does not accept Z at the end of the timestamp. It seems that it does not support timezones at all. Let us know if you think otherwise."
   ]
  },
  {
   "cell_type": "markdown",
   "id": "c04cdea0",
   "metadata": {},
   "source": [
    "Here, we are again running twarc on the command line. You might want to consider using the [Python client](https://twarc-project.readthedocs.io/en/latest/api/client2/) for creating more elaborate functionalities using twarc."
   ]
  },
  {
   "cell_type": "code",
   "execution_count": 27,
   "id": "6a83efce",
   "metadata": {},
   "outputs": [],
   "source": [
    "!twarc2 search --archive --start-time '2021-01-01T00:00:00' --end-time '2021-05-01T00:00:00' --flatten 'rajapinta lang:fi' rajapinta.jsonl"
   ]
  },
  {
   "cell_type": "code",
   "execution_count": null,
   "id": "eaacfce4",
   "metadata": {},
   "outputs": [],
   "source": []
  },
  {
   "cell_type": "code",
   "execution_count": null,
   "id": "09938ec6",
   "metadata": {},
   "outputs": [],
   "source": []
  },
  {
   "cell_type": "code",
   "execution_count": 30,
   "id": "d23b2b1b",
   "metadata": {},
   "outputs": [],
   "source": [
    "import json\n",
    "with open('rajapinta.jsonl') as f:\n",
    "    tweets_jsonl = f.read()\n",
    "    \n",
    "tweets = [json.loads(jline) for jline in tweets_jsonl.splitlines()]"
   ]
  },
  {
   "cell_type": "code",
   "execution_count": 31,
   "id": "12ea436d",
   "metadata": {},
   "outputs": [],
   "source": [
    "df = pd.DataFrame(tweets)"
   ]
  },
  {
   "cell_type": "code",
   "execution_count": 32,
   "id": "94a5b877",
   "metadata": {},
   "outputs": [
    {
     "name": "stdout",
     "output_type": "stream",
     "text": [
      "<class 'pandas.core.frame.DataFrame'>\n",
      "RangeIndex: 433 entries, 0 to 432\n",
      "Data columns (total 19 columns):\n",
      " #   Column               Non-Null Count  Dtype \n",
      "---  ------               --------------  ----- \n",
      " 0   author_id            433 non-null    object\n",
      " 1   public_metrics       433 non-null    object\n",
      " 2   lang                 433 non-null    object\n",
      " 3   reply_settings       433 non-null    object\n",
      " 4   created_at           433 non-null    object\n",
      " 5   id                   433 non-null    object\n",
      " 6   in_reply_to_user_id  163 non-null    object\n",
      " 7   conversation_id      433 non-null    object\n",
      " 8   entities             415 non-null    object\n",
      " 9   source               433 non-null    object\n",
      " 10  text                 433 non-null    object\n",
      " 11  referenced_tweets    361 non-null    object\n",
      " 12  possibly_sensitive   433 non-null    bool  \n",
      " 13  author               433 non-null    object\n",
      " 14  in_reply_to_user     163 non-null    object\n",
      " 15  __twarc              433 non-null    object\n",
      " 16  context_annotations  24 non-null     object\n",
      " 17  geo                  8 non-null      object\n",
      " 18  attachments          13 non-null     object\n",
      "dtypes: bool(1), object(18)\n",
      "memory usage: 61.4+ KB\n"
     ]
    }
   ],
   "source": [
    "df.info()"
   ]
  },
  {
   "cell_type": "markdown",
   "id": "a70ee451",
   "metadata": {},
   "source": [
    "Do note that the columns include more data!"
   ]
  },
  {
   "cell_type": "code",
   "execution_count": 33,
   "id": "4c31f91c",
   "metadata": {},
   "outputs": [
    {
     "data": {
      "text/plain": [
       "dict_keys(['id', 'public_metrics', 'created_at', 'description', 'url', 'username', 'verified', 'name', 'profile_image_url', 'protected'])"
      ]
     },
     "execution_count": 33,
     "metadata": {},
     "output_type": "execute_result"
    }
   ],
   "source": [
    "df_full.loc[0].author.keys()"
   ]
  },
  {
   "cell_type": "markdown",
   "id": "8e1cfa3c",
   "metadata": {},
   "source": [
    "Shorthand for picking up individual values "
   ]
  },
  {
   "cell_type": "code",
   "execution_count": 21,
   "id": "2696528f",
   "metadata": {},
   "outputs": [
    {
     "data": {
      "text/plain": [
       "'2012-08-15T09:36:41.000Z'"
      ]
     },
     "execution_count": 21,
     "metadata": {},
     "output_type": "execute_result"
    }
   ],
   "source": [
    "df.loc[0].author.get('created_at')"
   ]
  },
  {
   "cell_type": "code",
   "execution_count": null,
   "id": "35cbfa83",
   "metadata": {},
   "outputs": [],
   "source": []
  }
 ],
 "metadata": {
  "kernelspec": {
   "display_name": "Python 3",
   "language": "python",
   "name": "python3"
  },
  "language_info": {
   "codemirror_mode": {
    "name": "ipython",
    "version": 3
   },
   "file_extension": ".py",
   "mimetype": "text/x-python",
   "name": "python",
   "nbconvert_exporter": "python",
   "pygments_lexer": "ipython3",
   "version": "3.8.2"
  }
 },
 "nbformat": 4,
 "nbformat_minor": 5
}
