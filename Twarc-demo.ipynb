{
 "cells": [
  {
   "cell_type": "markdown",
   "id": "b485b5c4",
   "metadata": {},
   "source": [
    "# Demo for collecting a set of tweets with twarc"
   ]
  },
  {
   "cell_type": "markdown",
   "id": "46e72b57",
   "metadata": {},
   "source": [
    "You can of course create a virtual environment and install the following libraries using pip. \n",
    "\n",
    "However, this demo is seeking to find the easiest possible approach for collecting tweets using Python and twarc. \n",
    "\n",
    "To run this notebook, install Anaconda, download and place the notebook to a folder and open it in Anaconda. "
   ]
  },
  {
   "cell_type": "code",
   "execution_count": null,
   "id": "76cee5e9",
   "metadata": {},
   "outputs": [],
   "source": [
    "!pip install twarc\n",
    "!pip install pandas"
   ]
  },
  {
   "cell_type": "code",
   "execution_count": 37,
   "id": "739ee958",
   "metadata": {},
   "outputs": [],
   "source": [
    "import pandas as pd"
   ]
  },
  {
   "cell_type": "markdown",
   "id": "8e6c05da",
   "metadata": {},
   "source": [
    "Run twarc2 configure on the command line - you only need to do this once per computer:\n",
    "\n",
    "    twarc2 configure  "
   ]
  },
  {
   "cell_type": "markdown",
   "id": "bf85b405",
   "metadata": {},
   "source": [
    "Here, we are running twarc on the command line. You might want to consider using the [Python client](https://twarc-project.readthedocs.io/en/latest/api/client2/) for creating more elaborate functionalities using twarc.\n",
    "\n",
    "However, once configured, this is kind of a handy way to keep running the script and the related functionality for exporting the data."
   ]
  },
  {
   "cell_type": "code",
   "execution_count": 43,
   "id": "296d0c6f",
   "metadata": {},
   "outputs": [],
   "source": [
    "!twarc2 search --archive --start-time '2021-01-01T00:00:00' --end-time '2021-05-01T00:00:00' --flatten 'rajapinta lang:fi' rajapinta.jsonl"
   ]
  },
  {
   "cell_type": "markdown",
   "id": "388371f6",
   "metadata": {},
   "source": [
    "The data is now available in [rajapinta.jsonl](rajapinta.jsonl) following the [JSON Lines](https://jsonlines.org/) format."
   ]
  },
  {
   "cell_type": "markdown",
   "id": "61e1810b",
   "metadata": {},
   "source": [
    "Reading the data and creating a Pandas dataframe:"
   ]
  },
  {
   "cell_type": "code",
   "execution_count": 44,
   "id": "951de757",
   "metadata": {},
   "outputs": [],
   "source": [
    "import json\n",
    "with open('rajapinta.jsonl') as f:\n",
    "    tweets_jsonl = f.read()\n",
    "    \n",
    "tweets = [json.loads(jline) for jline in tweets_jsonl.splitlines()]"
   ]
  },
  {
   "cell_type": "code",
   "execution_count": 45,
   "id": "4d141988",
   "metadata": {},
   "outputs": [],
   "source": [
    "df = pd.DataFrame(tweets)"
   ]
  },
  {
   "cell_type": "code",
   "execution_count": 46,
   "id": "9163ffb8",
   "metadata": {},
   "outputs": [
    {
     "name": "stdout",
     "output_type": "stream",
     "text": [
      "<class 'pandas.core.frame.DataFrame'>\n",
      "RangeIndex: 433 entries, 0 to 432\n",
      "Data columns (total 19 columns):\n",
      " #   Column               Non-Null Count  Dtype \n",
      "---  ------               --------------  ----- \n",
      " 0   lang                 433 non-null    object\n",
      " 1   text                 433 non-null    object\n",
      " 2   conversation_id      433 non-null    object\n",
      " 3   author_id            433 non-null    object\n",
      " 4   possibly_sensitive   433 non-null    bool  \n",
      " 5   referenced_tweets    361 non-null    object\n",
      " 6   reply_settings       433 non-null    object\n",
      " 7   created_at           433 non-null    object\n",
      " 8   source               433 non-null    object\n",
      " 9   public_metrics       433 non-null    object\n",
      " 10  in_reply_to_user_id  163 non-null    object\n",
      " 11  entities             415 non-null    object\n",
      " 12  id                   433 non-null    object\n",
      " 13  author               433 non-null    object\n",
      " 14  in_reply_to_user     163 non-null    object\n",
      " 15  __twarc              433 non-null    object\n",
      " 16  context_annotations  24 non-null     object\n",
      " 17  geo                  8 non-null      object\n",
      " 18  attachments          13 non-null     object\n",
      "dtypes: bool(1), object(18)\n",
      "memory usage: 61.4+ KB\n"
     ]
    }
   ],
   "source": [
    "df.info()"
   ]
  },
  {
   "cell_type": "markdown",
   "id": "45ecb1c6",
   "metadata": {},
   "source": [
    "Do note that the columns include more data!"
   ]
  },
  {
   "cell_type": "code",
   "execution_count": 33,
   "id": "4dc002e1",
   "metadata": {},
   "outputs": [
    {
     "data": {
      "text/plain": [
       "dict_keys(['id', 'public_metrics', 'created_at', 'description', 'url', 'username', 'verified', 'name', 'profile_image_url', 'protected'])"
      ]
     },
     "execution_count": 33,
     "metadata": {},
     "output_type": "execute_result"
    }
   ],
   "source": [
    "df_full.loc[0].author.keys()"
   ]
  },
  {
   "cell_type": "markdown",
   "id": "4004d740",
   "metadata": {},
   "source": [
    "Shorthand for picking up individual values "
   ]
  },
  {
   "cell_type": "code",
   "execution_count": 21,
   "id": "ef3121e3",
   "metadata": {},
   "outputs": [
    {
     "data": {
      "text/plain": [
       "'2012-08-15T09:36:41.000Z'"
      ]
     },
     "execution_count": 21,
     "metadata": {},
     "output_type": "execute_result"
    }
   ],
   "source": [
    "df.loc[0].author.get('created_at')"
   ]
  },
  {
   "cell_type": "markdown",
   "id": "e5beed62",
   "metadata": {},
   "source": [
    "Serializing the data (i.e., writing the data to a file) in CSV and Excel."
   ]
  },
  {
   "cell_type": "code",
   "execution_count": 47,
   "id": "84440e2f",
   "metadata": {},
   "outputs": [],
   "source": [
    "df.to_csv('rajapinta.csv', encoding='utf-8')"
   ]
  },
  {
   "cell_type": "code",
   "execution_count": 49,
   "id": "80975a46",
   "metadata": {},
   "outputs": [
    {
     "name": "stdout",
     "output_type": "stream",
     "text": [
      "Collecting openpyxl\n",
      "  Using cached openpyxl-3.0.7-py2.py3-none-any.whl (243 kB)\n",
      "Collecting et-xmlfile\n",
      "  Using cached et_xmlfile-1.1.0-py3-none-any.whl (4.7 kB)\n",
      "Installing collected packages: et-xmlfile, openpyxl\n",
      "Successfully installed et-xmlfile-1.1.0 openpyxl-3.0.7\n"
     ]
    }
   ],
   "source": [
    "!pip install openpyxl"
   ]
  },
  {
   "cell_type": "code",
   "execution_count": 50,
   "id": "5ef5435e",
   "metadata": {},
   "outputs": [],
   "source": [
    "df.to_excel('rajapinta.xlsx')"
   ]
  },
  {
   "cell_type": "markdown",
   "id": "b80dd06c",
   "metadata": {},
   "source": [
    "## To be continued: running twarc in native Python"
   ]
  },
  {
   "cell_type": "code",
   "execution_count": 40,
   "id": "ef2f6c09",
   "metadata": {},
   "outputs": [
    {
     "name": "stdout",
     "output_type": "stream",
     "text": [
      "Enter the secret value: ········\n"
     ]
    }
   ],
   "source": [
    "from getpass import getpass\n",
    "bearer_token = getpass('Enter the secret value: ')"
   ]
  },
  {
   "cell_type": "code",
   "execution_count": 41,
   "id": "8f14c1e0",
   "metadata": {},
   "outputs": [],
   "source": [
    "from twarc import Twarc2 \n",
    "\n",
    "client = Twarc2(bearer_token=bearer_token)"
   ]
  },
  {
   "cell_type": "markdown",
   "id": "1b0c33ec",
   "metadata": {},
   "source": [
    "Do note that twarc does not accept Z at the end of the timestamp. It seems that it does not support timezones at all. Let us know if you think otherwise."
   ]
  },
  {
   "cell_type": "code",
   "execution_count": null,
   "id": "30417120",
   "metadata": {},
   "outputs": [],
   "source": [
    "tweets = client.search_all(\n",
    "    query = 'rajapinta lang:fi',\n",
    "    start_time = '2021-01-01T00:00:00'\n",
    "\n",
    ")\n",
    "\n"
   ]
  }
 ],
 "metadata": {
  "kernelspec": {
   "display_name": "Python 3",
   "language": "python",
   "name": "python3"
  },
  "language_info": {
   "codemirror_mode": {
    "name": "ipython",
    "version": 3
   },
   "file_extension": ".py",
   "mimetype": "text/x-python",
   "name": "python",
   "nbconvert_exporter": "python",
   "pygments_lexer": "ipython3",
   "version": "3.8.2"
  }
 },
 "nbformat": 4,
 "nbformat_minor": 5
}
